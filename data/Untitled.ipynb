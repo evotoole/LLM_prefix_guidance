{
 "cells": [
  {
   "cell_type": "code",
   "execution_count": 35,
   "id": "d86563cd-bfea-409c-a29a-2787112ade4d",
   "metadata": {},
   "outputs": [
    {
     "name": "stdout",
     "output_type": "stream",
     "text": [
      "Index(['Instruction', 'Question', 'full_output', '50_token_output',\n",
      "       '1_token_hint', '5_token_hint', '10_token_hint', '15_token_hint',\n",
      "       '20_token_hint', '25_token_hint', '30_token_hint', '35_token_hint',\n",
      "       '40_token_hint', '45_token_hint', '50_token_hint', '1_token_output',\n",
      "       '5_token_output', '10_token_output', '15_token_output',\n",
      "       '20_token_output', '25_token_output', '30_token_output',\n",
      "       '35_token_output', '40_token_output', '45_token_output'],\n",
      "      dtype='object')\n"
     ]
    }
   ],
   "source": [
    "import pandas as pd\n",
    "big_df = pd.read_csv('FINAL_LLAMA_DATA.csv')\n",
    "missing_df = pd.read_csv('MISSING_DATA.csv')\n",
    "print(big_df.columns)\n",
    "#missing_df.head()\n",
    "#big_df['LLM_full_output'] = big_df['full_output']\n",
    "#big_df['LLM_50_token_output'] = big_df['50_token_output']\n",
    "#big_df.head()\n",
    "#missing_df.columns\n",
    "missing_df['0_token_output'] = missing_df['SLM_0_token_output']\n",
    "#new_names = ['Instruction', 'Question', 'LLM_full_output', big_df.columns[4:15], '0_token_output', big_df.columns[15:], '50_token_output']\n",
    "big_df['LLM_full_output'] = big_df['full_output']\n",
    "\n",
    "new_df = pd.concat([\n",
    "    big_df[['Instruction', 'Question', 'LLM_full_output']],           # First 3\n",
    "    big_df.iloc[:, 4:15],                                             # Middle columns from big_df\n",
    "    missing_df[['0_token_output']],                                   # Insert 0-token output\n",
    "    big_df.iloc[:, 15:-1],                                              # Remaining columns from big_df\n",
    "    missing_df[['50_token_output']]                                   # Final column from missing_df\n",
    "], axis=1)\n",
    "\n",
    "pd.set_option('display.max_columns', None)\n",
    "pd.set_option('display.max_rows', None)\n",
    "\n",
    "new_df.head()\n",
    "#print(new_df.columns)\n",
    "new_df.to_csv('UPDATED_FINAL_DATA.csv', index=False)"
   ]
  },
  {
   "cell_type": "code",
   "execution_count": null,
   "id": "6d4094d0-7674-45c6-aa5f-8ca401f5fa42",
   "metadata": {},
   "outputs": [],
   "source": []
  }
 ],
 "metadata": {
  "kernelspec": {
   "display_name": "Python 3 (ipykernel)",
   "language": "python",
   "name": "python3"
  },
  "language_info": {
   "codemirror_mode": {
    "name": "ipython",
    "version": 3
   },
   "file_extension": ".py",
   "mimetype": "text/x-python",
   "name": "python",
   "nbconvert_exporter": "python",
   "pygments_lexer": "ipython3",
   "version": "3.11.8"
  }
 },
 "nbformat": 4,
 "nbformat_minor": 5
}
